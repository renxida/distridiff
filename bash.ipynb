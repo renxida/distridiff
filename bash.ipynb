{
 "cells": [
  {
   "cell_type": "code",
   "execution_count": 1,
   "id": "52a06aaf-ccda-4b60-8f96-2ca951801730",
   "metadata": {},
   "outputs": [
    {
     "name": "stdout",
     "output_type": "stream",
     "text": [
      "--2022-03-30 19:24:58--  https://gist.githubusercontent.com/jonathanronen/69902c1a97149ab4aae42e099d1d1367/raw/c594ae44d8540ddbea4c1471a40a62992fa1d614/vae-tutorial.ipynb\n",
      "Resolving gist.githubusercontent.com (gist.githubusercontent.com)... 185.199.109.133, 185.199.110.133, 185.199.108.133, ...\n",
      "Connecting to gist.githubusercontent.com (gist.githubusercontent.com)|185.199.109.133|:443... connected.\n",
      "HTTP request sent, awaiting response... 200 OK\n",
      "Length: 1400109 (1.3M) [text/plain]\n",
      "Saving to: ‘vae-tutorial.ipynb’\n",
      "\n",
      "vae-tutorial.ipynb  100%[===================>]   1.33M  --.-KB/s    in 0.02s   \n",
      "\n",
      "2022-03-30 19:24:58 (75.9 MB/s) - ‘vae-tutorial.ipynb’ saved [1400109/1400109]\n",
      "\n"
     ]
    }
   ],
   "source": [
    "wget https://gist.githubusercontent.com/jonathanronen/69902c1a97149ab4aae42e099d1d1367/raw/c594ae44d8540ddbea4c1471a40a62992fa1d614/vae-tutorial.ipynb"
   ]
  },
  {
   "cell_type": "code",
   "execution_count": 1,
   "id": "713e4868-b9b6-447c-9ed8-72c927253e27",
   "metadata": {},
   "outputs": [
    {
     "name": "stdout",
     "output_type": "stream",
     "text": [
      "--2022-04-21 12:44:10--  https://github.com/deepmind/dsprites-dataset/raw/master/dsprites_ndarray_co1sh3sc6or40x32y32_64x64.npz\n",
      "Resolving github.com (github.com)... 140.82.112.4\n",
      "Connecting to github.com (github.com)|140.82.112.4|:443... connected.\n",
      "HTTP request sent, awaiting response... 302 Found\n",
      "Location: https://raw.githubusercontent.com/deepmind/dsprites-dataset/master/dsprites_ndarray_co1sh3sc6or40x32y32_64x64.npz [following]\n",
      "--2022-04-21 12:44:10--  https://raw.githubusercontent.com/deepmind/dsprites-dataset/master/dsprites_ndarray_co1sh3sc6or40x32y32_64x64.npz\n",
      "Resolving raw.githubusercontent.com (raw.githubusercontent.com)... 185.199.109.133, 185.199.111.133, 185.199.108.133, ...\n",
      "Connecting to raw.githubusercontent.com (raw.githubusercontent.com)|185.199.109.133|:443... connected.\n",
      "HTTP request sent, awaiting response... 200 OK\n",
      "Length: 19318135 (18M) [application/octet-stream]\n",
      "Saving to: ‘dsprites_ndarray_co1sh3sc6or40x32y32_64x64.npz’\n",
      "\n",
      "dsprites_ndarray_co 100%[===================>]  18.42M  95.9MB/s    in 0.2s    \n",
      "\n",
      "2022-04-21 12:44:10 (95.9 MB/s) - ‘dsprites_ndarray_co1sh3sc6or40x32y32_64x64.npz’ saved [19318135/19318135]\n",
      "\n"
     ]
    }
   ],
   "source": [
    "wget https://github.com/deepmind/dsprites-dataset/raw/master/dsprites_ndarray_co1sh3sc6or40x32y32_64x64.npz"
   ]
  },
  {
   "cell_type": "code",
   "execution_count": 2,
   "id": "8167a94b-2658-45cb-9ed4-83228e696e06",
   "metadata": {},
   "outputs": [
    {
     "name": "stdout",
     "output_type": "stream",
     "text": [
      "\n",
      "Command 'import' not found, but can be installed with:\n",
      "\n",
      "sudo apt install imagemagick-6.q16                  # version 8:6.9.10.23+dfsg-2.1ubuntu11.4, or\n",
      "sudo apt install imagemagick-6.q16hdri              # version 8:6.9.10.23+dfsg-2.1ubuntu11.4\n",
      "sudo apt install graphicsmagick-imagemagick-compat  # version 1.4+really1.3.35-1\n",
      "\n"
     ]
    },
    {
     "ename": "",
     "evalue": "127",
     "output_type": "error",
     "traceback": []
    }
   ],
   "source": [
    "import numpy as np"
   ]
  },
  {
   "cell_type": "code",
   "execution_count": null,
   "id": "37ac3d57-21d9-4efc-94a4-84b7b711541c",
   "metadata": {},
   "outputs": [],
   "source": [
    "ds = np.load"
   ]
  }
 ],
 "metadata": {
  "kernelspec": {
   "display_name": "Bash",
   "language": "bash",
   "name": "bash"
  },
  "language_info": {
   "codemirror_mode": "shell",
   "file_extension": ".sh",
   "mimetype": "text/x-sh",
   "name": "bash"
  }
 },
 "nbformat": 4,
 "nbformat_minor": 5
}
