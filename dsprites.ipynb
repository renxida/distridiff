{
 "cells": [
  {
   "cell_type": "code",
   "execution_count": 1,
   "id": "3190ed7c-1ccc-41ba-856c-9b9483310723",
   "metadata": {},
   "outputs": [
    {
     "name": "stdout",
     "output_type": "stream",
     "text": [
      "--2022-04-21 12:44:51--  https://github.com/deepmind/dsprites-dataset/raw/master/dsprites_ndarray_co1sh3sc6or40x32y32_64x64.npz\n",
      "Resolving github.com (github.com)... 140.82.112.4\n",
      "Connecting to github.com (github.com)|140.82.112.4|:443... connected.\n",
      "HTTP request sent, awaiting response... 302 Found\n",
      "Location: https://raw.githubusercontent.com/deepmind/dsprites-dataset/master/dsprites_ndarray_co1sh3sc6or40x32y32_64x64.npz [following]\n",
      "--2022-04-21 12:44:51--  https://raw.githubusercontent.com/deepmind/dsprites-dataset/master/dsprites_ndarray_co1sh3sc6or40x32y32_64x64.npz\n",
      "Resolving raw.githubusercontent.com (raw.githubusercontent.com)... 185.199.110.133, 185.199.108.133, 185.199.111.133, ...\n",
      "Connecting to raw.githubusercontent.com (raw.githubusercontent.com)|185.199.110.133|:443... connected.\n",
      "HTTP request sent, awaiting response... 200 OK\n",
      "Length: 19318135 (18M) [application/octet-stream]\n",
      "Saving to: ‘dsprites_ndarray_co1sh3sc6or40x32y32_64x64.npz.1’\n",
      "\n",
      "dsprites_ndarray_co 100%[===================>]  18.42M   102MB/s    in 0.2s    \n",
      "\n",
      "2022-04-21 12:44:51 (102 MB/s) - ‘dsprites_ndarray_co1sh3sc6or40x32y32_64x64.npz.1’ saved [19318135/19318135]\n",
      "\n"
     ]
    }
   ],
   "source": [
    "!wget https://github.com/deepmind/dsprites-dataset/raw/master/dsprites_ndarray_co1sh3sc6or40x32y32_64x64.npz"
   ]
  },
  {
   "cell_type": "code",
   "execution_count": 13,
   "id": "01497ead-dfbb-4bc2-91ca-27eedd60c3c5",
   "metadata": {},
   "outputs": [],
   "source": [
    "import numpy as np"
   ]
  },
  {
   "cell_type": "code",
   "execution_count": 4,
   "id": "99afad82-a07b-4a2f-b119-b54e558acd6a",
   "metadata": {},
   "outputs": [],
   "source": [
    "ds = np.load(\"./dsprites_ndarray_co1sh3sc6or40x32y32_64x64.npz\")"
   ]
  },
  {
   "cell_type": "code",
   "execution_count": 10,
   "id": "58a2e91e-4685-48f5-9cd2-ab5f68344021",
   "metadata": {},
   "outputs": [],
   "source": [
    "ds.allow_pickle=True"
   ]
  },
  {
   "cell_type": "code",
   "execution_count": 12,
   "id": "8ab22bfa-b3c4-4cfe-9c48-d5e6df87c2a5",
   "metadata": {},
   "outputs": [
    {
     "name": "stdout",
     "output_type": "stream",
     "text": [
      "--2022-04-21 12:46:04--  https://raw.githubusercontent.com/deepmind/dsprites-dataset/master/dsprites_reloading_example.ipynb\n",
      "Resolving raw.githubusercontent.com (raw.githubusercontent.com)... 185.199.110.133, 185.199.108.133, 185.199.111.133, ...\n",
      "Connecting to raw.githubusercontent.com (raw.githubusercontent.com)|185.199.110.133|:443... connected.\n",
      "HTTP request sent, awaiting response... 200 OK\n",
      "Length: 59858 (58K) [text/plain]\n",
      "Saving to: ‘dsprites_reloading_example.ipynb’\n",
      "\n",
      "dsprites_reloading_ 100%[===================>]  58.46K  --.-KB/s    in 0.001s  \n",
      "\n",
      "2022-04-21 12:46:04 (98.0 MB/s) - ‘dsprites_reloading_example.ipynb’ saved [59858/59858]\n",
      "\n"
     ]
    }
   ],
   "source": [
    "!wget https://raw.githubusercontent.com/deepmind/dsprites-dataset/master/dsprites_reloading_example.ipynb"
   ]
  },
  {
   "cell_type": "code",
   "execution_count": 17,
   "id": "6d39dbf9-00c9-4bca-9cb4-38e7c5e9b2dc",
   "metadata": {},
   "outputs": [
    {
     "name": "stdout",
     "output_type": "stream",
     "text": [
      "Collecting tensorflow_datasets\n",
      "  Downloading tensorflow_datasets-4.5.2-py3-none-any.whl (4.2 MB)\n",
      "\u001b[2K     \u001b[90m━━━━━━━━━━━━━━━━━━━━━━━━━━━━━━━━━━━━━━━━\u001b[0m \u001b[32m4.2/4.2 MB\u001b[0m \u001b[31m47.7 MB/s\u001b[0m eta \u001b[36m0:00:00\u001b[0m00:01\u001b[0m00:01\u001b[0m\n",
      "\u001b[?25hRequirement already satisfied: protobuf>=3.12.2 in /home/xr5ry/anaconda3/lib/python3.9/site-packages (from tensorflow_datasets) (3.19.1)\n",
      "Requirement already satisfied: tqdm in /home/xr5ry/anaconda3/lib/python3.9/site-packages (from tensorflow_datasets) (4.62.3)\n",
      "Requirement already satisfied: six in /home/xr5ry/anaconda3/lib/python3.9/site-packages (from tensorflow_datasets) (1.16.0)\n",
      "Collecting tensorflow-metadata\n",
      "  Downloading tensorflow_metadata-1.7.0-py3-none-any.whl (48 kB)\n",
      "\u001b[2K     \u001b[90m━━━━━━━━━━━━━━━━━━━━━━━━━━━━━━━━━━━━━━━━\u001b[0m \u001b[32m48.8/48.8 KB\u001b[0m \u001b[31m5.5 MB/s\u001b[0m eta \u001b[36m0:00:00\u001b[0m\n",
      "\u001b[?25hCollecting promise\n",
      "  Downloading promise-2.3.tar.gz (19 kB)\n",
      "  Preparing metadata (setup.py) ... \u001b[?25ldone\n",
      "\u001b[?25hRequirement already satisfied: numpy in /home/xr5ry/anaconda3/lib/python3.9/site-packages (from tensorflow_datasets) (1.20.3)\n",
      "Requirement already satisfied: absl-py in /home/xr5ry/anaconda3/lib/python3.9/site-packages (from tensorflow_datasets) (1.0.0)\n",
      "Requirement already satisfied: requests>=2.19.0 in /home/xr5ry/anaconda3/lib/python3.9/site-packages (from tensorflow_datasets) (2.26.0)\n",
      "Collecting dill\n",
      "  Downloading dill-0.3.4-py2.py3-none-any.whl (86 kB)\n",
      "\u001b[2K     \u001b[90m━━━━━━━━━━━━━━━━━━━━━━━━━━━━━━━━━━━━━━━━\u001b[0m \u001b[32m86.9/86.9 KB\u001b[0m \u001b[31m10.0 MB/s\u001b[0m eta \u001b[36m0:00:00\u001b[0m\n",
      "\u001b[?25hRequirement already satisfied: termcolor in /home/xr5ry/anaconda3/lib/python3.9/site-packages (from tensorflow_datasets) (1.1.0)\n",
      "Requirement already satisfied: charset-normalizer~=2.0.0 in /home/xr5ry/anaconda3/lib/python3.9/site-packages (from requests>=2.19.0->tensorflow_datasets) (2.0.4)\n",
      "Requirement already satisfied: idna<4,>=2.5 in /home/xr5ry/anaconda3/lib/python3.9/site-packages (from requests>=2.19.0->tensorflow_datasets) (3.2)\n",
      "Requirement already satisfied: certifi>=2017.4.17 in /home/xr5ry/anaconda3/lib/python3.9/site-packages (from requests>=2.19.0->tensorflow_datasets) (2021.10.8)\n",
      "Requirement already satisfied: urllib3<1.27,>=1.21.1 in /home/xr5ry/anaconda3/lib/python3.9/site-packages (from requests>=2.19.0->tensorflow_datasets) (1.26.7)\n",
      "Collecting googleapis-common-protos<2,>=1.52.0\n",
      "  Downloading googleapis_common_protos-1.56.0-py2.py3-none-any.whl (241 kB)\n",
      "\u001b[2K     \u001b[90m━━━━━━━━━━━━━━━━━━━━━━━━━━━━━━━━━━━━━━\u001b[0m \u001b[32m241.5/241.5 KB\u001b[0m \u001b[31m23.7 MB/s\u001b[0m eta \u001b[36m0:00:00\u001b[0m\n",
      "\u001b[?25hBuilding wheels for collected packages: promise\n",
      "  Building wheel for promise (setup.py) ... \u001b[?25ldone\n",
      "\u001b[?25h  Created wheel for promise: filename=promise-2.3-py3-none-any.whl size=21502 sha256=75945354b6d9ed46925a9b83702441ab95e04a3d867dd5e2e5c8d4553de7496f\n",
      "  Stored in directory: /home/xr5ry/.cache/pip/wheels/e1/e8/83/ddea66100678d139b14bc87692ece57c6a2a937956d2532608\n",
      "Successfully built promise\n",
      "Installing collected packages: promise, googleapis-common-protos, dill, tensorflow-metadata, tensorflow_datasets\n",
      "Successfully installed dill-0.3.4 googleapis-common-protos-1.56.0 promise-2.3 tensorflow-metadata-1.7.0 tensorflow_datasets-4.5.2\n"
     ]
    }
   ],
   "source": [
    "!pip install tensorflow_datasets"
   ]
  },
  {
   "cell_type": "code",
   "execution_count": 2,
   "id": "ecf3fad6-1432-47da-82e1-cee70a210898",
   "metadata": {},
   "outputs": [],
   "source": [
    "import tensorflow_datasets as tfds\n"
   ]
  },
  {
   "cell_type": "code",
   "execution_count": null,
   "id": "0d7255df-57cb-46a9-879a-616ba19c224f",
   "metadata": {},
   "outputs": [
    {
     "name": "stderr",
     "output_type": "stream",
     "text": [
      "2022-04-21 13:50:16.892083: W tensorflow/core/platform/cloud/google_auth_provider.cc:184] All attempts to get a Google authentication bearer token failed, returning an empty token. Retrieving token from files failed with \"NOT_FOUND: Could not locate the credentials file.\". Retrieving token from GCE failed with \"FAILED_PRECONDITION: Error executing an HTTP request: libcurl code 6 meaning 'Couldn't resolve host name', error details: Could not resolve host: metadata\".\n"
     ]
    },
    {
     "name": "stdout",
     "output_type": "stream",
     "text": [
      "\u001b[1mDownloading and preparing dataset 26.73 MiB (download: 26.73 MiB, generated: Unknown size, total: 26.73 MiB) to /home/xr5ry/tensorflow_datasets/dsprites/2.0.0...\u001b[0m\n"
     ]
    },
    {
     "data": {
      "application/vnd.jupyter.widget-view+json": {
       "model_id": "481df5e78b3146838e685dc8be77d3af",
       "version_major": 2,
       "version_minor": 0
      },
      "text/plain": [
       "Dl Completed...: 0 url [00:00, ? url/s]"
      ]
     },
     "metadata": {},
     "output_type": "display_data"
    },
    {
     "data": {
      "application/vnd.jupyter.widget-view+json": {
       "model_id": "affeaf82ab5c4945a7fa18023ab9d6ff",
       "version_major": 2,
       "version_minor": 0
      },
      "text/plain": [
       "Dl Size...: 0 MiB [00:00, ? MiB/s]"
      ]
     },
     "metadata": {},
     "output_type": "display_data"
    },
    {
     "data": {
      "application/vnd.jupyter.widget-view+json": {
       "model_id": "1351f15ea4d84aba81a073df2acd4a53",
       "version_major": 2,
       "version_minor": 0
      },
      "text/plain": [
       "Generating splits...:   0%|          | 0/1 [00:00<?, ? splits/s]"
      ]
     },
     "metadata": {},
     "output_type": "display_data"
    },
    {
     "data": {
      "application/vnd.jupyter.widget-view+json": {
       "model_id": "84bd59cca1cf437db05c226308ce13bf",
       "version_major": 2,
       "version_minor": 0
      },
      "text/plain": [
       "Generating train examples...:   0%|          | 0/737280 [00:00<?, ? examples/s]"
      ]
     },
     "metadata": {},
     "output_type": "display_data"
    }
   ],
   "source": [
    "ds = tfds.load('dsprites', split='train', shuffle_files=False)\n"
   ]
  },
  {
   "cell_type": "code",
   "execution_count": null,
   "id": "f661884a-8ad8-43b5-8776-75f0075368a9",
   "metadata": {},
   "outputs": [],
   "source": []
  },
  {
   "cell_type": "code",
   "execution_count": null,
   "id": "245b6991-dd34-46ec-9038-9e6178962223",
   "metadata": {},
   "outputs": [],
   "source": []
  },
  {
   "cell_type": "code",
   "execution_count": null,
   "id": "dacbec6d-b875-4371-b05e-da0bd14b66b9",
   "metadata": {},
   "outputs": [],
   "source": [
    "\n"
   ]
  },
  {
   "cell_type": "code",
   "execution_count": null,
   "id": "2d89033a-075e-48f1-9338-18a001d3a116",
   "metadata": {},
   "outputs": [],
   "source": []
  },
  {
   "cell_type": "code",
   "execution_count": null,
   "id": "47b9fdee-54d1-48db-8cbf-39eae8dbeb56",
   "metadata": {},
   "outputs": [],
   "source": []
  }
 ],
 "metadata": {
  "kernelspec": {
   "display_name": "Python 3 (ipykernel)",
   "language": "python",
   "name": "python3"
  },
  "language_info": {
   "codemirror_mode": {
    "name": "ipython",
    "version": 3
   },
   "file_extension": ".py",
   "mimetype": "text/x-python",
   "name": "python",
   "nbconvert_exporter": "python",
   "pygments_lexer": "ipython3",
   "version": "3.9.7"
  }
 },
 "nbformat": 4,
 "nbformat_minor": 5
}
